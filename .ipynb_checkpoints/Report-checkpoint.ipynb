{
 "cells": [
  {
   "cell_type": "markdown",
   "metadata": {},
   "source": [
    "### Advanced Lane Finding Project ###\n",
    "\n",
    "The main goal of the project is detect lanes on an image, find radius of curvature of the road and offset of center of car."
   ]
  },
  {
   "cell_type": "markdown",
   "metadata": {},
   "source": [
    "The steps below is a processing pipeline to detect the lanes and make the measurements\n",
    "\n",
    "* Compute the camera calibration matrix and distortion coefficients given a set of chessboard images.\n",
    "* Apply a distortion correction to raw images.\n",
    "* Use color transforms, gradients, etc., to create a thresholded binary image.\n",
    "* Apply a perspective transform to rectify binary image (\"birds-eye view\").\n",
    "* Detect lane pixels and fit to find the lane boundary.\n",
    "* Determine the curvature of the lane and vehicle position with respect to center.\n",
    "* Warp the detected lane boundaries back onto the original image.\n",
    "* Overlay the lanes and measurements on the original image\n",
    "\n",
    "** Processing Pipeline **\n",
    "<img src = './Code/report_images/ImageProcessingPipeline.png'>"
   ]
  },
  {
   "cell_type": "markdown",
   "metadata": {},
   "source": [
    "** Code Organization **\n",
    "\n",
    "| File                                | Description                                                                        |\n",
    "| ----------------------------------- | ---------------------------------------------------------------------------------- |\n",
    "|`/Code/MainCode.ipynb`      | Code demonstrating steps of complete image processing pipeline |\n",
    "|`/Code/Undistorter.py`      | Class for camera calibration based on the set of calibration images. |\n",
    "|`/Code/Thresholder.py`     | Class for Color and Gradient Thresholding of image|\n",
    "|`/Code/PerspectiveTransformer.py`   | Class for performing perspective transformation and it's inverse|\n",
    "|`/Code/LaneDetector.py` | Class of detected lanes and fitting curve, also includes measurement routines |\n",
    "|`/Code/LanePlotter.py`        | Class for Plotting Lanes and Measurements onto image |\n",
    "|`/Code/LaneTracker.py`      | Class inclusive of all image processing pipeline steps |"
   ]
  },
  {
   "cell_type": "markdown",
   "metadata": {},
   "source": [
    "### Procesing Pipeline ###"
   ]
  },
  {
   "cell_type": "markdown",
   "metadata": {},
   "source": [
    "### Step 1: Camera Calibration ###\n",
    "Why do we need to perform camera calibration?\n",
    "A good tutorial explaining these effects can be found at: http://aishack.in/tutorials/major-physical-defects-cameras/\n",
    "\n",
    "Cameras and lenses have distortion due to manufacturing. Theoritically a parabolic lens has the best performance, however it is hard to manufacture a parabolic lens. Most of the lens manufactured are spherical lens and this introduces two types of distortion: a) Radial Distoprtion b) Tangential Distortion\n",
    "\n",
    "* Radial distortion: \n",
    "Radial Distortion is caused due to the spherical shape of lens. This is because light travelling through center of lens doesn't get bent due to refraction. However, light passing through edges go through bending and thus the image at the periphery gets distorted. This type of distortion at the edges is described as \"Radial Distortion\"\n",
    "\n",
    "* Tangential Distortion:\n",
    "When the lens is not placed parallel to the imaging plane (the CCD sensor, etc) a tangential distortion is produced.\n",
    "\n",
    "\n",
    "\n",
    "The code for the unistorting is found in undistorter.py.\n",
    "\n",
    "** Algorithm:**\n",
    "\n",
    "* Find the corners in uncalibrated images (image points)\n",
    "* Create a list of object points i.e., where the points are in real-world(object points)\n",
    "* Use opencv calibrateCamera to get calibration matrix etc.,\n",
    "* Use the calibration matrix etc., to undistort a new image opencv's undistort function\n",
    "\n",
    "** Example Output **\n",
    "\n",
    "| Before Calibration |After Calibration|\n",
    "|---|---|\n",
    "| ![before cal](./Code/report_images/before_cal.png) | ![after cal](./Code/report_images/after_cal.png) |\n"
   ]
  },
  {
   "cell_type": "markdown",
   "metadata": {
    "collapsed": true
   },
   "source": [
    "### Step 2: Thresholding to detect edges###\n",
    "\n",
    "Gradients are typically used to detect edges (or lines in this case). There are multiple gradient operators in computer vision, we will be using Sobel operator. Sobel operator highlights rapid changes in intensity. We will be using a simple sobel kernel and convolve with image to perform gradient operation.\n",
    "Also, to improve localizing the lanes we will be using our problem specific color thresholding. For color we simply convert the frame to HLS color space and apply a threshold on the S channel. The reason we use HLS here is because it proved to perform best in separating light pixels (road markings) from dark pixels (road) using the saturation channel.\n",
    "\n",
    "** Algorithm: **\n",
    "\n",
    "One of the problems I had with gradient thresholding is that the hood of the car was appearing in some of the images and was causing problem. To overcome this problem, I used color thresholding.\n",
    "Reference: https://medium.com/@MSqalli/advanced-lane-detection-6a769de0d581#.qhd7zefyo\n",
    "\n",
    "** Example Output **\n",
    "\n",
    "| Before Thresholding (road image)|After Thresholding|\n",
    "|---|---|\n",
    "| ![before thresh](./Code/report_images/distort_correct_img.png) | ![after thresh](./Code/report_images/thresholded_img.png) |"
   ]
  },
  {
   "cell_type": "markdown",
   "metadata": {},
   "source": [
    "### Step 3: Correct Perspective Error ###\n",
    "\n",
    "As we can see in the road image aove, the yellow lane and white lane appear to be converging while in reality we know that the lanes are parallel. This happens because of perpsective error. The perspective error on the images have to be corrected before we make measurement on the road curvature. We can notice in the images below that after the perspective correction, the lanes appear to be parallel as we expect.\n",
    "\n",
    "** Algorithm: **\n",
    "1. Collect four points on the image manually to transform using lanes or checkerboard\n",
    "2. Use opencv's perspective transform to \"cv2.getPerspectiveTransform\" to compute the perspective transformation matrix\n",
    "3. Also, get inverse perspective tranform matrix to map the detected lanes on perspective corrected image to original image\n",
    "\n",
    "I have used the source and destination points provided by udacity. Below are the source and destination points I have used to convert trapezoid to rectangle:\n",
    "\n",
    "| Source | Destination |\n",
    "| ------ | ----------- |\n",
    "| `(585, 460)` | `(320, 0)` |\n",
    "| `(203, 720)` | `(320, 720)` |\n",
    "| `(1127, 720)` | `(960, 720)` |\n",
    "| `(695, 460)` | `(960, 0)` |\n",
    "\n",
    "Code for this can be found at PerspectiveTransformer.py\n",
    "\n",
    "** Example Output: **\n",
    "\n",
    "| Before perspective correction (thresholded image)|After Perspective correction (thresholded image)|\n",
    "|---|---|\n",
    "| ![before cal](./Code/report_images/thresholded_img.png) | ![after cal](./Code/report_images/perspective_corrected.png) |"
   ]
  },
  {
   "cell_type": "markdown",
   "metadata": {
    "collapsed": true
   },
   "source": [
    "### Step 4: Detect Lanes using Sliding Window approach ###\n",
    "I have used the sliding window approach to identify and fit curve to the lane\n",
    "\n",
    "** Algorithm: **\n",
    "\n",
    "1. Take a histogram of the bottom half of the image. The two peaks inside the histogram will act as starting point for left lane and right lane (peak in first half of histogram left lane and other half peak is right lane)\n",
    "2. Then divide the image into N equal windows or boxes. In each window, find and collect non-zero indices from the center of the previous box + margin. The center/mean of the non-zero indices in current box will also act as starting search point for next window. Left lane and right lane non-zero indices for each window are collected seperately\n",
    "3. Once the non-zero point locations in each window (with in the search margin) are collected, a second order polynomial is fit for the data points to identify a global curve (lane) which fits the data.\n",
    "\n",
    "Code for this can be found in LaneDetector.py\n",
    "\n",
    "** Curve fit result **\n",
    "<img src=\"./Code/report_images/curve_fit.png\"/>\n"
   ]
  },
  {
   "cell_type": "markdown",
   "metadata": {},
   "source": [
    "### Step 5: Project the curve fitted lines to original image ###\n",
    "\n",
    "Once the curve-fitted lanes are found, they are projected back into original image. \n",
    "\n",
    "** Alogirthm **\n",
    "1. For this we use inverse perspective transformation matrix  discussed in Step 3. We use opencv warpPerspective function with inverse transformation matrix. For example, this would convert rectangle to trapezoid.\n",
    "2. Overlay the curve fit lines using opencv's add weighted function\n",
    "\n",
    "Code for this can be found in LanePlotter.py\n",
    "\n",
    "** Detected lane on original image **\n",
    "<img src = \"./Code/report_images/lane_overlay.png\">"
   ]
  },
  {
   "cell_type": "markdown",
   "metadata": {},
   "source": [
    "### Step 6: Find radius of curvature and offset from center ###\n",
    "\n",
    "Earlier, we located the lane line pixels, used their x and y pixel positions to fit a second order polynomial curve:\n",
    "<img src =\"./Code/report_images/radius of curvature.jpg\">\n",
    "\n",
    "a) Radius of Curvature:\n",
    "f(y)=A*(y**2)+B*y+C\n",
    "\n",
    "We were fitting for f(y), rather than f(x), because the lane lines in the warped image are near vertical and may have the same x value for more than one y value.\n",
    "\n",
    "Radius of curvature can be calculated as:\n",
    "Rcurve = ((1+(2Ay+B)^2)^1.5)/abs(2A)\n",
    "The y values of your image increase from top to bottom, so if, for example, you wanted to measure the radius of curvature closest to your vehicle, you could evaluate the formula above at the y value corresponding to the bottom of your image, or in Python, at yvalue = image.shape[0].\n",
    "\n",
    "b) Position Offset:\n",
    "This can be calculated as the distance between (left lane position + right lane psoition)/2 at bottom of the image - image point mid point at bottom of the image\n",
    "\n",
    "Code for this and position offset can be found inside process function of LaneTracker.py\n",
    "\n",
    "** Result: **\n",
    "<img src = \"./Code/report_images/lane_measure_overlay.png\">"
   ]
  },
  {
   "cell_type": "markdown",
   "metadata": {},
   "source": [
    "## Final Video ##\n",
    "\n",
    "The total pipeline code is at /Code/MainCode.ipynb\n",
    "The final video of the pipeline implementation can be watched here:\n",
    "\n",
    "https://youtu.be/BMUABwRbmZE"
   ]
  },
  {
   "cell_type": "markdown",
   "metadata": {
    "collapsed": true
   },
   "source": [
    "## Discussion##\n",
    "\n",
    "This was a great project experience. This project gave me first hand experience at building image processing pipelines.During the initial phases, the green polygon was going out of the lane bounds indicating, some error in lane detection calculations. This was because the output of threshold wasn't as clean as expected. I found some clues as where to place threshold by looking at histogram of the gradient images, angle images. However, I got breakthrough as I noticed that other students were using yellow and white masks in HSV domain to improve lane detection. This enhanced the performance of pipeline greatly.\n",
    "\n",
    "However, more tuning needs to be done so that the pipeline is robust to varying lighting conditions, when the markings are not clear etc., as observed in challenge videos. Future improvents needs to be made so that better thresholding algorithm is applied so that it robust to problems discussed earlier. I am curious to see how other techniques such as deep learning work, as in previous project behavioral cloning it was able to steer even when lane markings were missing. Overall, I thoroughly enjoyed applying computer vision techniques.\n",
    "\n",
    "Future Study:\n",
    "1. I want to explore color thresholding in depth later and get intuition for different color spaces. For example, stauration vs paleness when you look at a image\n",
    "2. While I didn't look at the frame rate of processing pipeline, it would be interesting to see how we can make the system robust while operating at real-time"
   ]
  },
  {
   "cell_type": "code",
   "execution_count": null,
   "metadata": {
    "collapsed": true
   },
   "outputs": [],
   "source": []
  }
 ],
 "metadata": {
  "kernelspec": {
   "display_name": "Python 3",
   "language": "python",
   "name": "python3"
  },
  "language_info": {
   "codemirror_mode": {
    "name": "ipython",
    "version": 3
   },
   "file_extension": ".py",
   "mimetype": "text/x-python",
   "name": "python",
   "nbconvert_exporter": "python",
   "pygments_lexer": "ipython3",
   "version": "3.5.2"
  },
  "widgets": {
   "state": {},
   "version": "1.1.2"
  }
 },
 "nbformat": 4,
 "nbformat_minor": 2
}
