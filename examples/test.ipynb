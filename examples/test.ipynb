{
 "cells": [
  {
   "cell_type": "code",
   "execution_count": 9,
   "metadata": {
    "collapsed": false
   },
   "outputs": [],
   "source": [
    "import glob\n",
    "import numpy as np"
   ]
  },
  {
   "cell_type": "code",
   "execution_count": null,
   "metadata": {
    "collapsed": true
   },
   "outputs": [],
   "source": [
    "from Undistorter import Undistorter\n",
    "undistorter = Undistorter()\n",
    "print(\"Distortion Initiation Success\")\n",
    "\n",
    "from Thresholder import Thresholder\n",
    "thresholder = Thresholder()\n",
    "print(\"Thresholding Initiation Success\")\n",
    "\n",
    "from PerspectiveTransformer import PerspectiveTransformer\n",
    "ptransformer = PerspectiveTransformer()\n",
    "print(\"Perspective Transformer Initiation Success\")\n",
    "\n",
    "from LaneDetector import LaneDetector\n",
    "laneDetector = LaneDetector()\n",
    "print(\"Lane Detector Initiation Success\") \n",
    "\n",
    "from LanePlotter import LanePlotter\n",
    "lanePlotter = LanePlotter()\n",
    "print(\"Lane Plotter Initiation Success\") "
   ]
  }
 ],
 "metadata": {
  "kernelspec": {
   "display_name": "Python 3",
   "language": "python",
   "name": "python3"
  },
  "language_info": {
   "codemirror_mode": {
    "name": "ipython",
    "version": 3
   },
   "file_extension": ".py",
   "mimetype": "text/x-python",
   "name": "python",
   "nbconvert_exporter": "python",
   "pygments_lexer": "ipython3",
   "version": "3.5.2"
  },
  "widgets": {
   "state": {},
   "version": "1.1.2"
  }
 },
 "nbformat": 4,
 "nbformat_minor": 2
}
