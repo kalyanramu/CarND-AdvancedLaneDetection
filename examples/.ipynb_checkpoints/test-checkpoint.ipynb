{
 "cells": [
  {
   "cell_type": "code",
   "execution_count": 5,
   "metadata": {
    "collapsed": false
   },
   "outputs": [],
   "source": [
    "import glob\n",
    "import numpy as np"
   ]
  },
  {
   "cell_type": "code",
   "execution_count": 7,
   "metadata": {
    "collapsed": false
   },
   "outputs": [],
   "source": [
    "import glob\n",
    "\n",
    "import cv2\n",
    "import numpy as np\n",
    "import pandas as pd\n",
    "\n",
    "class Undistorter:\n",
    "    def __init__(self):\n",
    "        try:\n",
    "            df = pd.read_csv('data/distort_info.csv')\n",
    "            self.objpoints = df['object points']\n",
    "            self.imgpoints = df['image points']\n",
    "            self.shape = tuple(np.load('data/shape.npy'))\n",
    "        except:\n",
    "            self.objpoints = None\n",
    "            self.imgpoints = None\n",
    "            self.shape = None\n",
    "\n",
    "        if self.objpoints is None or self.imgpoints is None or self.shape is None:\n",
    "            self.find_corners()\n",
    "\n",
    "        ret, self.mtx, self.dist, self.rvecs, self.tvecs = cv2.calibrateCamera(self.objpoints, self.imgpoints,\n",
    "                                                                               self.shape,\n",
    "                                                                               None, None)\n",
    "\n",
    "    def find_corners(self):\n",
    "        images = glob.glob('camera_cal/calibration*.jpg')\n",
    "        base_objp = np.zeros((6 * 9, 3), np.float32)\n",
    "        base_objp[:, :2] = np.mgrid[0:9, 0:6].T.reshape(-1, 2)\n",
    "        self.objpoints = []\n",
    "        self.imgpoints = []\n",
    "        self.shape = None\n",
    "\n",
    "        for imname in images:\n",
    "            img = cv2.imread(imname)\n",
    "            gray = cv2.cvtColor(img, cv2.COLOR_BGR2GRAY)\n",
    "\n",
    "            if self.shape is None:\n",
    "                self.shape = gray.shape[::-1]\n",
    "\n",
    "            print('Finding chessboard corners on {}'.format(imname))\n",
    "            ret, corners = cv2.findChessboardCorners(gray, (9, 6), None)\n",
    "\n",
    "            if ret:\n",
    "                self.objpoints.append(base_objp)\n",
    "                self.imgpoints.append(corners)\n",
    "\n",
    "        \n",
    "\n",
    "        np.save('data/objpoints', self.objpoints)\n",
    "        np.save('data/imgpoints', self.imgpoints)\n",
    "        np.save('data/shape', self.shape)\n",
    "\n",
    "    def undistort(self, img):\n",
    "        return cv2.undistort(img, self.mtx, self.dist, None, self.mtx)"
   ]
  },
  {
   "cell_type": "code",
   "execution_count": null,
   "metadata": {
    "collapsed": true
   },
   "outputs": [],
   "source": []
  }
 ],
 "metadata": {
  "kernelspec": {
   "display_name": "Python 3",
   "language": "python",
   "name": "python3"
  },
  "language_info": {
   "codemirror_mode": {
    "name": "ipython",
    "version": 3
   },
   "file_extension": ".py",
   "mimetype": "text/x-python",
   "name": "python",
   "nbconvert_exporter": "python",
   "pygments_lexer": "ipython3",
   "version": "3.5.2"
  },
  "widgets": {
   "state": {},
   "version": "1.1.2"
  }
 },
 "nbformat": 4,
 "nbformat_minor": 2
}
