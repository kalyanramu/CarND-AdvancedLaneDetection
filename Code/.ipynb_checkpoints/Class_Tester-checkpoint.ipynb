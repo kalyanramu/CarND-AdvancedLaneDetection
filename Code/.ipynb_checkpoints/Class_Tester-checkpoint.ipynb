{
 "cells": [
  {
   "cell_type": "code",
   "execution_count": 12,
   "metadata": {
    "collapsed": false
   },
   "outputs": [
    {
     "name": "stdout",
     "output_type": "stream",
     "text": [
      "Finding chessboard corners on camera_cal/calibration1.jpg\n",
      "Finding chessboard corners on camera_cal/calibration17.jpg\n",
      "Finding chessboard corners on camera_cal/calibration5.jpg\n",
      "Finding chessboard corners on camera_cal/calibration3.jpg\n",
      "Finding chessboard corners on camera_cal/calibration15.jpg\n",
      "Finding chessboard corners on camera_cal/calibration19.jpg\n",
      "Finding chessboard corners on camera_cal/calibration12.jpg\n",
      "Finding chessboard corners on camera_cal/calibration14.jpg\n",
      "Finding chessboard corners on camera_cal/calibration9.jpg\n",
      "Finding chessboard corners on camera_cal/calibration6.jpg\n",
      "Finding chessboard corners on camera_cal/calibration20.jpg\n",
      "Finding chessboard corners on camera_cal/calibration18.jpg\n",
      "Finding chessboard corners on camera_cal/calibration10.jpg\n",
      "Finding chessboard corners on camera_cal/calibration8.jpg\n",
      "Finding chessboard corners on camera_cal/calibration7.jpg\n",
      "Finding chessboard corners on camera_cal/calibration11.jpg\n",
      "Finding chessboard corners on camera_cal/calibration4.jpg\n",
      "Finding chessboard corners on camera_cal/calibration16.jpg\n",
      "Finding chessboard corners on camera_cal/calibration2.jpg\n",
      "Finding chessboard corners on camera_cal/calibration13.jpg\n"
     ]
    }
   ],
   "source": [
    "from Undistorter import Undistorter\n",
    "undistorter = Undistorter()"
   ]
  },
  {
   "cell_type": "code",
   "execution_count": 7,
   "metadata": {
    "collapsed": false
   },
   "outputs": [],
   "source": [
    "import pandas as pd\n",
    "df = pd.DataFrame(columns=[\"object_points\",\"image_points\"])"
   ]
  },
  {
   "cell_type": "code",
   "execution_count": null,
   "metadata": {
    "collapsed": true
   },
   "outputs": [],
   "source": [
    "df['object_points']="
   ]
  },
  {
   "cell_type": "code",
   "execution_count": 6,
   "metadata": {
    "collapsed": false
   },
   "outputs": [
    {
     "name": "stdout",
     "output_type": "stream",
     "text": [
      "Empty DataFrame\n",
      "Columns: [object points, image points]\n",
      "Index: []\n"
     ]
    }
   ],
   "source": [
    "print(df)"
   ]
  },
  {
   "cell_type": "code",
   "execution_count": null,
   "metadata": {
    "collapsed": true
   },
   "outputs": [],
   "source": []
  }
 ],
 "metadata": {
  "kernelspec": {
   "display_name": "Python 3",
   "language": "python",
   "name": "python3"
  },
  "language_info": {
   "codemirror_mode": {
    "name": "ipython",
    "version": 3
   },
   "file_extension": ".py",
   "mimetype": "text/x-python",
   "name": "python",
   "nbconvert_exporter": "python",
   "pygments_lexer": "ipython3",
   "version": "3.5.2"
  },
  "widgets": {
   "state": {},
   "version": "1.1.2"
  }
 },
 "nbformat": 4,
 "nbformat_minor": 2
}
